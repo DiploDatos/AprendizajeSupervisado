{
 "cells": [
  {
   "cell_type": "markdown",
   "metadata": {},
   "source": [
    "# Perceptrón"
   ]
  },
  {
   "cell_type": "code",
   "execution_count": null,
   "metadata": {},
   "outputs": [],
   "source": [
    "import numpy as np\n",
    "\n",
    "import sklearn\n",
    "import sklearn.datasets\n",
    "import sklearn.linear_model\n",
    "import sklearn.neural_network\n",
    "\n",
    "import matplotlib.pyplot as plt\n",
    "import mlutils\n",
    "\n",
    "import warnings\n",
    "warnings.filterwarnings(\"ignore\")\n",
    "%matplotlib inline"
   ]
  },
  {
   "cell_type": "markdown",
   "metadata": {},
   "source": [
    "Generamos datos para jugar un poco y entender..."
   ]
  },
  {
   "cell_type": "code",
   "execution_count": null,
   "metadata": {},
   "outputs": [],
   "source": [
    "def load_dataset_up_down(size, seed=39):\n",
    "    np.random.seed(seed)\n",
    "    x = np.random.poisson(5, size) * (np.random.randint(0,2, size) * 2 - 1)\n",
    "    y = (np.random.poisson(5, size) + 1) * (np.random.randint(0,2, size) * 2 - 1)\n",
    "    X = np.array(list(zip(x,y)))\n",
    "    Y = (X[:,1] > 0).astype(np.int8)\n",
    "    return X, Y"
   ]
  },
  {
   "cell_type": "markdown",
   "metadata": {},
   "source": [
    "## Entrenamiento con 100 puntos"
   ]
  },
  {
   "cell_type": "markdown",
   "metadata": {},
   "source": [
    "Veamos los datos"
   ]
  },
  {
   "cell_type": "code",
   "execution_count": null,
   "metadata": {},
   "outputs": [],
   "source": [
    "X, Y = load_dataset_up_down(100)\n",
    "indices = np.argsort(Y)\n",
    "X = X[indices]\n",
    "Y = Y[indices]\n",
    "ax = plt.axes()\n",
    "ax.set_aspect(\"equal\", adjustable=\"datalim\")\n",
    "plt.scatter(X[:, 0], X[:, 1], c=Y, s=50, cmap=plt.cm.Spectral)\n",
    "plt.xlabel('x')\n",
    "plt.ylabel('y')\n",
    "plt.grid()\n",
    "plt.show()"
   ]
  },
  {
   "cell_type": "markdown",
   "metadata": {},
   "source": [
    "Entrenamos el perceptrón con estos datos:"
   ]
  },
  {
   "cell_type": "markdown",
   "metadata": {},
   "source": [
    "Documentación [Perceptrón](https://scikit-learn.org/stable/modules/generated/sklearn.linear_model.Perceptron.html)"
   ]
  },
  {
   "cell_type": "code",
   "execution_count": null,
   "metadata": {},
   "outputs": [],
   "source": [
    "clf = sklearn.linear_model.Perceptron(max_iter=5, random_state=1)\n",
    "clf.fit(X, Y)"
   ]
  },
  {
   "cell_type": "markdown",
   "metadata": {},
   "source": [
    "Graficamos utilizando la función que escribimos en el módulo mlutils:"
   ]
  },
  {
   "cell_type": "code",
   "execution_count": null,
   "metadata": {},
   "outputs": [],
   "source": [
    "mlutils.plot_decision_boundary(lambda x: clf.predict(x), X.T, Y.T)\n",
    "predictions = clf.predict(X)\n",
    "print ('Accuracy: %d ' % ((np.sum(Y == predictions))/float(Y.size)*100))"
   ]
  },
  {
   "cell_type": "markdown",
   "metadata": {},
   "source": [
    "## Probemos ahora con más datos"
   ]
  },
  {
   "cell_type": "code",
   "execution_count": null,
   "metadata": {},
   "outputs": [],
   "source": [
    "X, Y = load_dataset_up_down(800)\n",
    "mlutils.plot_decision_boundary(lambda x: clf.predict(x), X.T, Y.T)\n",
    "predictions = clf.predict(X)\n",
    "print ('Accuracy: %d ' % ((np.sum(Y == predictions))/float(Y.size)*100))"
   ]
  },
  {
   "cell_type": "markdown",
   "metadata": {},
   "source": [
    "## Qué sucede si entrenamos varias veces con distintas semillas? "
   ]
  },
  {
   "cell_type": "code",
   "execution_count": null,
   "metadata": {},
   "outputs": [],
   "source": [
    "np.random.randint(0,100)"
   ]
  },
  {
   "cell_type": "code",
   "execution_count": null,
   "metadata": {},
   "outputs": [],
   "source": [
    "X, Y = load_dataset_up_down(100,seed=3)\n",
    "for i in range(1,5): \n",
    "    plt.subplot(2,2,i)\n",
    "    clf = sklearn.linear_model.Perceptron(max_iter=5, random_state=np.random.randint(0,100))\n",
    "    clf.fit(X, Y)\n",
    "    mlutils.plot_decision_boundary(lambda x: clf.predict(x), X.T, Y.T)\n",
    "plt.show()"
   ]
  },
  {
   "cell_type": "markdown",
   "metadata": {},
   "source": [
    "## Y si los datos no son linealmente separables?"
   ]
  },
  {
   "cell_type": "code",
   "execution_count": null,
   "metadata": {},
   "outputs": [],
   "source": [
    "X, Y = load_dataset_up_down(1000)\n",
    "plt.scatter(X[:, 0], X[:, 1], c=Y, s=50, cmap=plt.cm.Spectral);"
   ]
  },
  {
   "cell_type": "code",
   "execution_count": null,
   "metadata": {
    "scrolled": true
   },
   "outputs": [],
   "source": [
    "some_noise = np.random.binomial(n=1, p=.03, size=Y.shape[0])\n",
    "Y = np.logical_xor(Y, some_noise).astype(np.int8)\n",
    "ax = plt.axes()\n",
    "ax.set_aspect(\"equal\", adjustable=\"datalim\")\n",
    "plt.scatter(X[:, 0], X[:, 1], c=Y, s=50, cmap=plt.cm.Spectral);"
   ]
  },
  {
   "cell_type": "markdown",
   "metadata": {},
   "source": [
    "Documentación [Perceptrón](https://scikit-learn.org/stable/modules/generated/sklearn.linear_model.Perceptron.html)"
   ]
  },
  {
   "cell_type": "code",
   "execution_count": null,
   "metadata": {},
   "outputs": [],
   "source": [
    "sklearn.linear_model.Perceptron?"
   ]
  },
  {
   "cell_type": "code",
   "execution_count": null,
   "metadata": {},
   "outputs": [],
   "source": [
    "clf = sklearn.linear_model.Perceptron(shuffle=False, max_iter=5, random_state=1)\n",
    "clf.fit(X, Y)"
   ]
  },
  {
   "cell_type": "code",
   "execution_count": null,
   "metadata": {},
   "outputs": [],
   "source": [
    "mlutils.plot_decision_boundary(lambda x: clf.predict(x), X.T, Y.T)\n",
    "predictions = clf.predict(X)\n",
    "print ('Accuracy: %d ' % ((np.sum(Y == predictions))/float(Y.size)*100))"
   ]
  },
  {
   "cell_type": "code",
   "execution_count": null,
   "metadata": {},
   "outputs": [],
   "source": [
    "clf = sklearn.linear_model.Perceptron(shuffle=False, max_iter=100, random_state=10)\n",
    "clf.fit(X, Y);"
   ]
  },
  {
   "cell_type": "code",
   "execution_count": null,
   "metadata": {},
   "outputs": [],
   "source": [
    "mlutils.plot_decision_boundary(lambda x: clf.predict(x), X.T, Y.T)\n",
    "predictions = clf.predict(X)\n",
    "print ('Accuracy: %d ' % ((np.sum(Y == predictions))/float(Y.size)*100))"
   ]
  },
  {
   "cell_type": "code",
   "execution_count": null,
   "metadata": {},
   "outputs": [],
   "source": [
    "clf = sklearn.linear_model.Perceptron(verbose=1)\n",
    "clf.fit(X, Y)\n",
    "mlutils.plot_decision_boundary(lambda x: clf.predict(x), X.T, Y.T)\n",
    "predictions = clf.predict(X)\n",
    "print ('Accuracy: %d ' % ((np.sum(Y == predictions))/float(Y.size)*100))"
   ]
  },
  {
   "cell_type": "code",
   "execution_count": null,
   "metadata": {},
   "outputs": [],
   "source": [
    "clf = sklearn.linear_model.Perceptron(penalty=\"l1\",alpha=1e-3,eta0=0.001,random_state=1, verbose=1)\n",
    "clf.fit(X, Y)\n",
    "mlutils.plot_decision_boundary(lambda x: clf.predict(x), X.T, Y.T)\n",
    "predictions = clf.predict(X)\n",
    "print ('Accuracy: %d ' % ((np.sum(Y == predictions))/float(Y.size)*100))"
   ]
  }
 ],
 "metadata": {
  "kernelspec": {
   "display_name": "Python 3 (ipykernel)",
   "language": "python",
   "name": "python3"
  },
  "language_info": {
   "codemirror_mode": {
    "name": "ipython",
    "version": 3
   },
   "file_extension": ".py",
   "mimetype": "text/x-python",
   "name": "python",
   "nbconvert_exporter": "python",
   "pygments_lexer": "ipython3",
   "version": "3.11.9"
  },
  "vscode": {
   "interpreter": {
    "hash": "e6b65fc4380ac725e50a330b268a227bbdbe91bddfffbf68e5f7ce9848a2b8d5"
   }
  }
 },
 "nbformat": 4,
 "nbformat_minor": 4
}
